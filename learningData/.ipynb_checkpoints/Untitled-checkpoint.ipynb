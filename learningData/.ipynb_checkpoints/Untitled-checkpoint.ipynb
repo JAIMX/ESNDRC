{
 "cells": [
  {
   "cell_type": "code",
   "execution_count": 3,
   "metadata": {},
   "outputs": [],
   "source": [
    "import pandas as pd"
   ]
  },
  {
   "cell_type": "code",
   "execution_count": 4,
   "metadata": {
    "collapsed": true
   },
   "outputs": [],
   "source": [
    "chunks = pd.read_csv('test.csv',iterator = True)\n",
    "chunk = chunks.get_chunk(10)\n"
   ]
  },
  {
   "cell_type": "code",
   "execution_count": 6,
   "metadata": {},
   "outputs": [
    {
     "name": "stdout",
     "output_type": "stream",
     "text": [
      "   NumOfNodes  NumOfArcs  VolumeOfDemands  timeSurplus  Arc0  Arc1  Arc2  \\\n",
      "0          75        225              409           11     2     3  0.09   \n",
      "1          75        225              409           11     4     3  0.16   \n",
      "2          75        225              409           11     4     3  0.16   \n",
      "3          75        225              409           11     5     3  0.16   \n",
      "4          75        225              409           11     6     3  0.20   \n",
      "\n",
      "   Arc3  Arc4  Arc5 ...  Arc23  Arc24  Arc25  iIfOrigin  jIfDestination  \\\n",
      "0  0.09  0.27  0.05 ...      3      3      3          0               0   \n",
      "1  0.09  0.27  0.00 ...      3      3      3          0               0   \n",
      "2  0.09  0.18  0.00 ...      3      3      2          0               0   \n",
      "3  0.09  0.11  0.00 ...      3      3      2          0               0   \n",
      "4  0.09  0.11  0.00 ...      3      3      2          0               0   \n",
      "\n",
      "   rSPCount  iflpCover  lpPercent  timeDiff  y  \n",
      "0         0          0        0.0        15  0  \n",
      "1         0          0        0.0        15  0  \n",
      "2         0          0        0.0        15  0  \n",
      "3         0          0        0.0        15  0  \n",
      "4         0          0        0.0        15  0  \n",
      "\n",
      "[5 rows x 37 columns]\n"
     ]
    }
   ],
   "source": [
    "print(chunk)"
   ]
  },
  {
   "cell_type": "code",
   "execution_count": null,
   "metadata": {
    "collapsed": true
   },
   "outputs": [],
   "source": []
  }
 ],
 "metadata": {
  "kernelspec": {
   "display_name": "Python 3",
   "language": "python",
   "name": "python3"
  },
  "language_info": {
   "codemirror_mode": {
    "name": "ipython",
    "version": 3
   },
   "file_extension": ".py",
   "mimetype": "text/x-python",
   "name": "python",
   "nbconvert_exporter": "python",
   "pygments_lexer": "ipython3",
   "version": "3.6.3"
  }
 },
 "nbformat": 4,
 "nbformat_minor": 2
}
